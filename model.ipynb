{
 "cells": [
  {
   "cell_type": "code",
   "execution_count": 1,
   "metadata": {},
   "outputs": [],
   "source": [
    "from pyspark import SparkContext, SparkConf, SQLContext\n",
    "from pyspark.sql.types import *\n",
    "from pyspark.sql import SparkSession\n",
    "from pyspark.sql import functions as F\n",
    "from math import radians, cos, sin, asin, sqrt, atan2, degrees\n",
    "from datetime import datetime\n",
    "from time import mktime\n",
    "from pyspark.sql.window import Window\n",
    "import pandas as pd\n",
    "import os\n",
    "import numpy as np"
   ]
  },
  {
   "cell_type": "markdown",
   "metadata": {},
   "source": [
    "## Load Data"
   ]
  },
  {
   "cell_type": "code",
   "execution_count": 2,
   "metadata": {},
   "outputs": [],
   "source": [
    "file_list = os.listdir('data/gps_20161001')\n",
    "conf = SparkConf().setAll([('spark.executor.memory', '8g'), ('spark.executor.cores', '3'), ('spark.cores.max', '3'), ('spark.driver.memory','8g')])\n",
    "sc = SparkContext(\"local\", \"Simple App\", conf=conf)\n",
    "sqlContext = SQLContext(sc)"
   ]
  },
  {
   "cell_type": "code",
   "execution_count": 3,
   "metadata": {},
   "outputs": [],
   "source": [
    "didi_aggr_3 = sqlContext.read.csv('data/gps_20161001')"
   ]
  },
  {
   "cell_type": "code",
   "execution_count": 4,
   "metadata": {},
   "outputs": [
    {
     "name": "stdout",
     "output_type": "stream",
     "text": [
      "+---+---+---+----+--------------------+----+\n",
      "|_c0|_c1|_c2| _c3|                 _c4| _c5|\n",
      "+---+---+---+----+--------------------+----+\n",
      "|  3|  1| 61|-1.0|  14.098737356321838|1740|\n",
      "|  3|  8| 46| 3.0|  32.392894736842116| 190|\n",
      "|  3|  7|115|-1.0|  2.8088791583166333|9980|\n",
      "|  0|  2| 70|-1.0|0.001864319005696...|1931|\n",
      "|  3|  2|100|-1.0|   5.071760677872687|7258|\n",
      "|  4|  2|131|-1.0|   8.786022483392951|1957|\n",
      "|  5|  7| 90| 1.0|   25.44599195710456| 746|\n",
      "|  5|  0|102| 1.0|  23.210146835443016| 790|\n",
      "|  8|  7| 50| 3.0|   33.87347598253275| 458|\n",
      "|  2|  5| 63|-1.0|   8.489747444377631|1663|\n",
      "|  8|  6| 73| 3.0|   26.73153204172876| 671|\n",
      "|  3|  2|109|-1.0|   6.627792252964427|6325|\n",
      "|  3|  0| 98|-1.0|  13.397822779243624|2274|\n",
      "|  2|  6|  3|-1.0|   6.758796445880455|1238|\n",
      "|  5|  1|139| 1.0|   27.38999999999999| 350|\n",
      "|  0|  6| 90| 1.0|  35.156109589041094| 584|\n",
      "|  8|  7| 76| 3.0|  23.631831007751924| 645|\n",
      "|  6|  0| 59|-1.0|   7.711387900355872| 281|\n",
      "|  2|  6|125|-1.0|  2.9004978517722875|5586|\n",
      "|  0|  4|111| 1.0|  39.933304721030034| 233|\n",
      "+---+---+---+----+--------------------+----+\n",
      "only showing top 20 rows\n",
      "\n"
     ]
    }
   ],
   "source": [
    "didi_aggr_3.show()"
   ]
  },
  {
   "cell_type": "markdown",
   "metadata": {},
   "source": [
    "## Convert pyspark dataframe into pandas dataframe"
   ]
  },
  {
   "cell_type": "code",
   "execution_count": 5,
   "metadata": {},
   "outputs": [
    {
     "data": {
      "text/plain": [
       "['_c0', '_c1', '_c2', '_c3', '_c4', '_c5']"
      ]
     },
     "execution_count": 5,
     "metadata": {},
     "output_type": "execute_result"
    }
   ],
   "source": [
    "didi_df = didi_aggr_3.toPandas()\n",
    "didi_aggr_3.schema.names"
   ]
  },
  {
   "cell_type": "code",
   "execution_count": 6,
   "metadata": {},
   "outputs": [
    {
     "data": {
      "text/html": [
       "<div>\n",
       "<style scoped>\n",
       "    .dataframe tbody tr th:only-of-type {\n",
       "        vertical-align: middle;\n",
       "    }\n",
       "\n",
       "    .dataframe tbody tr th {\n",
       "        vertical-align: top;\n",
       "    }\n",
       "\n",
       "    .dataframe thead th {\n",
       "        text-align: right;\n",
       "    }\n",
       "</style>\n",
       "<table border=\"1\" class=\"dataframe\">\n",
       "  <thead>\n",
       "    <tr style=\"text-align: right;\">\n",
       "      <th></th>\n",
       "      <th>x</th>\n",
       "      <th>y</th>\n",
       "      <th>t</th>\n",
       "      <th>direction</th>\n",
       "      <th>avg_vel</th>\n",
       "      <th>nodes</th>\n",
       "    </tr>\n",
       "  </thead>\n",
       "  <tbody>\n",
       "    <tr>\n",
       "      <th>0</th>\n",
       "      <td>3</td>\n",
       "      <td>1</td>\n",
       "      <td>61</td>\n",
       "      <td>-1.0</td>\n",
       "      <td>14.098737356321838</td>\n",
       "      <td>1740</td>\n",
       "    </tr>\n",
       "    <tr>\n",
       "      <th>1</th>\n",
       "      <td>3</td>\n",
       "      <td>8</td>\n",
       "      <td>46</td>\n",
       "      <td>3.0</td>\n",
       "      <td>32.392894736842116</td>\n",
       "      <td>190</td>\n",
       "    </tr>\n",
       "    <tr>\n",
       "      <th>2</th>\n",
       "      <td>3</td>\n",
       "      <td>7</td>\n",
       "      <td>115</td>\n",
       "      <td>-1.0</td>\n",
       "      <td>2.8088791583166333</td>\n",
       "      <td>9980</td>\n",
       "    </tr>\n",
       "    <tr>\n",
       "      <th>3</th>\n",
       "      <td>0</td>\n",
       "      <td>2</td>\n",
       "      <td>70</td>\n",
       "      <td>-1.0</td>\n",
       "      <td>0.0018643190056965302</td>\n",
       "      <td>1931</td>\n",
       "    </tr>\n",
       "    <tr>\n",
       "      <th>4</th>\n",
       "      <td>3</td>\n",
       "      <td>2</td>\n",
       "      <td>100</td>\n",
       "      <td>-1.0</td>\n",
       "      <td>5.071760677872687</td>\n",
       "      <td>7258</td>\n",
       "    </tr>\n",
       "  </tbody>\n",
       "</table>\n",
       "</div>"
      ],
      "text/plain": [
       "   x  y    t direction                avg_vel nodes\n",
       "0  3  1   61      -1.0     14.098737356321838  1740\n",
       "1  3  8   46       3.0     32.392894736842116   190\n",
       "2  3  7  115      -1.0     2.8088791583166333  9980\n",
       "3  0  2   70      -1.0  0.0018643190056965302  1931\n",
       "4  3  2  100      -1.0      5.071760677872687  7258"
      ]
     },
     "execution_count": 6,
     "metadata": {},
     "output_type": "execute_result"
    }
   ],
   "source": [
    "didi_df.columns = ['x', 'y', 't', 'direction', 'avg_vel', 'nodes']\n",
    "didi_df.head()"
   ]
  },
  {
   "cell_type": "code",
   "execution_count": 8,
   "metadata": {},
   "outputs": [],
   "source": [
    "didi_df.sort_values([\"x\",\"y\",\"t\",\"direction\"])\n",
    "didi_df.avg_vel = pd.to_numeric(didi_df.avg_vel)\n",
    "didi_df.nodes = pd.to_numeric(didi_df.nodes)\n",
    "didi_df.direction = pd.to_numeric(didi_df.direction)\n",
    "didi_df.t = pd.to_numeric(didi_df.t)\n",
    "didi_df.x = pd.to_numeric(didi_df.x)\n",
    "didi_df.y = pd.to_numeric(didi_df.y)"
   ]
  },
  {
   "cell_type": "code",
   "execution_count": 9,
   "metadata": {},
   "outputs": [],
   "source": [
    "group_x_y = didi_df.groupby([\"x\",\"y\",\"t\"])"
   ]
  },
  {
   "cell_type": "code",
   "execution_count": 10,
   "metadata": {},
   "outputs": [
    {
     "data": {
      "text/html": [
       "<div>\n",
       "<style scoped>\n",
       "    .dataframe tbody tr th:only-of-type {\n",
       "        vertical-align: middle;\n",
       "    }\n",
       "\n",
       "    .dataframe tbody tr th {\n",
       "        vertical-align: top;\n",
       "    }\n",
       "\n",
       "    .dataframe thead th {\n",
       "        text-align: right;\n",
       "    }\n",
       "</style>\n",
       "<table border=\"1\" class=\"dataframe\">\n",
       "  <thead>\n",
       "    <tr style=\"text-align: right;\">\n",
       "      <th></th>\n",
       "      <th></th>\n",
       "      <th></th>\n",
       "      <th>direction</th>\n",
       "      <th>avg_vel</th>\n",
       "      <th>nodes</th>\n",
       "    </tr>\n",
       "    <tr>\n",
       "      <th>x</th>\n",
       "      <th>y</th>\n",
       "      <th>t</th>\n",
       "      <th></th>\n",
       "      <th></th>\n",
       "      <th></th>\n",
       "    </tr>\n",
       "  </thead>\n",
       "  <tbody>\n",
       "    <tr>\n",
       "      <th rowspan=\"5\" valign=\"top\">0</th>\n",
       "      <th rowspan=\"5\" valign=\"top\">0</th>\n",
       "      <th>0</th>\n",
       "      <td>5.0</td>\n",
       "      <td>29.087397</td>\n",
       "      <td>441</td>\n",
       "    </tr>\n",
       "    <tr>\n",
       "      <th>1</th>\n",
       "      <td>5.0</td>\n",
       "      <td>30.073045</td>\n",
       "      <td>1038</td>\n",
       "    </tr>\n",
       "    <tr>\n",
       "      <th>2</th>\n",
       "      <td>5.0</td>\n",
       "      <td>30.638304</td>\n",
       "      <td>1070</td>\n",
       "    </tr>\n",
       "    <tr>\n",
       "      <th>3</th>\n",
       "      <td>5.0</td>\n",
       "      <td>30.868496</td>\n",
       "      <td>1120</td>\n",
       "    </tr>\n",
       "    <tr>\n",
       "      <th>4</th>\n",
       "      <td>5.0</td>\n",
       "      <td>31.104015</td>\n",
       "      <td>1210</td>\n",
       "    </tr>\n",
       "  </tbody>\n",
       "</table>\n",
       "</div>"
      ],
      "text/plain": [
       "       direction    avg_vel  nodes\n",
       "x y t                             \n",
       "0 0 0        5.0  29.087397    441\n",
       "    1        5.0  30.073045   1038\n",
       "    2        5.0  30.638304   1070\n",
       "    3        5.0  30.868496   1120\n",
       "    4        5.0  31.104015   1210"
      ]
     },
     "execution_count": 10,
     "metadata": {},
     "output_type": "execute_result"
    }
   ],
   "source": [
    "didi_agg = group_x_y.agg({\"direction\":\"sum\", \"avg_vel\":\"mean\",\"nodes\":\"sum\"})\n",
    "didi_agg.head()"
   ]
  },
  {
   "cell_type": "code",
   "execution_count": 11,
   "metadata": {},
   "outputs": [],
   "source": [
    "didi_agg = didi_agg.reset_index()"
   ]
  },
  {
   "cell_type": "code",
   "execution_count": 12,
   "metadata": {},
   "outputs": [
    {
     "data": {
      "text/html": [
       "<div>\n",
       "<style scoped>\n",
       "    .dataframe tbody tr th:only-of-type {\n",
       "        vertical-align: middle;\n",
       "    }\n",
       "\n",
       "    .dataframe tbody tr th {\n",
       "        vertical-align: top;\n",
       "    }\n",
       "\n",
       "    .dataframe thead th {\n",
       "        text-align: right;\n",
       "    }\n",
       "</style>\n",
       "<table border=\"1\" class=\"dataframe\">\n",
       "  <thead>\n",
       "    <tr style=\"text-align: right;\">\n",
       "      <th></th>\n",
       "      <th>x</th>\n",
       "      <th>y</th>\n",
       "      <th>t</th>\n",
       "      <th>direction</th>\n",
       "      <th>avg_vel</th>\n",
       "      <th>nodes</th>\n",
       "    </tr>\n",
       "  </thead>\n",
       "  <tbody>\n",
       "    <tr>\n",
       "      <th>0</th>\n",
       "      <td>0</td>\n",
       "      <td>0</td>\n",
       "      <td>0</td>\n",
       "      <td>5.0</td>\n",
       "      <td>29.087397</td>\n",
       "      <td>441</td>\n",
       "    </tr>\n",
       "    <tr>\n",
       "      <th>1</th>\n",
       "      <td>0</td>\n",
       "      <td>0</td>\n",
       "      <td>1</td>\n",
       "      <td>5.0</td>\n",
       "      <td>30.073045</td>\n",
       "      <td>1038</td>\n",
       "    </tr>\n",
       "    <tr>\n",
       "      <th>2</th>\n",
       "      <td>0</td>\n",
       "      <td>0</td>\n",
       "      <td>2</td>\n",
       "      <td>5.0</td>\n",
       "      <td>30.638304</td>\n",
       "      <td>1070</td>\n",
       "    </tr>\n",
       "    <tr>\n",
       "      <th>3</th>\n",
       "      <td>0</td>\n",
       "      <td>0</td>\n",
       "      <td>3</td>\n",
       "      <td>5.0</td>\n",
       "      <td>30.868496</td>\n",
       "      <td>1120</td>\n",
       "    </tr>\n",
       "    <tr>\n",
       "      <th>4</th>\n",
       "      <td>0</td>\n",
       "      <td>0</td>\n",
       "      <td>4</td>\n",
       "      <td>5.0</td>\n",
       "      <td>31.104015</td>\n",
       "      <td>1210</td>\n",
       "    </tr>\n",
       "    <tr>\n",
       "      <th>5</th>\n",
       "      <td>0</td>\n",
       "      <td>0</td>\n",
       "      <td>5</td>\n",
       "      <td>5.0</td>\n",
       "      <td>30.862899</td>\n",
       "      <td>927</td>\n",
       "    </tr>\n",
       "    <tr>\n",
       "      <th>6</th>\n",
       "      <td>0</td>\n",
       "      <td>0</td>\n",
       "      <td>6</td>\n",
       "      <td>5.0</td>\n",
       "      <td>32.881424</td>\n",
       "      <td>878</td>\n",
       "    </tr>\n",
       "    <tr>\n",
       "      <th>7</th>\n",
       "      <td>0</td>\n",
       "      <td>0</td>\n",
       "      <td>7</td>\n",
       "      <td>5.0</td>\n",
       "      <td>29.333440</td>\n",
       "      <td>409</td>\n",
       "    </tr>\n",
       "    <tr>\n",
       "      <th>8</th>\n",
       "      <td>0</td>\n",
       "      <td>0</td>\n",
       "      <td>8</td>\n",
       "      <td>5.0</td>\n",
       "      <td>33.058558</td>\n",
       "      <td>347</td>\n",
       "    </tr>\n",
       "    <tr>\n",
       "      <th>9</th>\n",
       "      <td>0</td>\n",
       "      <td>0</td>\n",
       "      <td>9</td>\n",
       "      <td>5.0</td>\n",
       "      <td>33.869005</td>\n",
       "      <td>369</td>\n",
       "    </tr>\n",
       "    <tr>\n",
       "      <th>10</th>\n",
       "      <td>0</td>\n",
       "      <td>0</td>\n",
       "      <td>10</td>\n",
       "      <td>5.0</td>\n",
       "      <td>29.855768</td>\n",
       "      <td>354</td>\n",
       "    </tr>\n",
       "    <tr>\n",
       "      <th>11</th>\n",
       "      <td>0</td>\n",
       "      <td>0</td>\n",
       "      <td>11</td>\n",
       "      <td>5.0</td>\n",
       "      <td>29.911548</td>\n",
       "      <td>353</td>\n",
       "    </tr>\n",
       "    <tr>\n",
       "      <th>12</th>\n",
       "      <td>0</td>\n",
       "      <td>0</td>\n",
       "      <td>12</td>\n",
       "      <td>5.0</td>\n",
       "      <td>36.899510</td>\n",
       "      <td>479</td>\n",
       "    </tr>\n",
       "    <tr>\n",
       "      <th>13</th>\n",
       "      <td>0</td>\n",
       "      <td>0</td>\n",
       "      <td>13</td>\n",
       "      <td>5.0</td>\n",
       "      <td>32.714515</td>\n",
       "      <td>263</td>\n",
       "    </tr>\n",
       "    <tr>\n",
       "      <th>14</th>\n",
       "      <td>0</td>\n",
       "      <td>0</td>\n",
       "      <td>14</td>\n",
       "      <td>5.0</td>\n",
       "      <td>32.918753</td>\n",
       "      <td>505</td>\n",
       "    </tr>\n",
       "    <tr>\n",
       "      <th>15</th>\n",
       "      <td>0</td>\n",
       "      <td>0</td>\n",
       "      <td>15</td>\n",
       "      <td>5.0</td>\n",
       "      <td>36.179391</td>\n",
       "      <td>112</td>\n",
       "    </tr>\n",
       "    <tr>\n",
       "      <th>16</th>\n",
       "      <td>0</td>\n",
       "      <td>0</td>\n",
       "      <td>16</td>\n",
       "      <td>0.0</td>\n",
       "      <td>34.150000</td>\n",
       "      <td>81</td>\n",
       "    </tr>\n",
       "    <tr>\n",
       "      <th>17</th>\n",
       "      <td>0</td>\n",
       "      <td>0</td>\n",
       "      <td>17</td>\n",
       "      <td>2.0</td>\n",
       "      <td>32.346101</td>\n",
       "      <td>251</td>\n",
       "    </tr>\n",
       "    <tr>\n",
       "      <th>18</th>\n",
       "      <td>0</td>\n",
       "      <td>0</td>\n",
       "      <td>18</td>\n",
       "      <td>5.0</td>\n",
       "      <td>29.420061</td>\n",
       "      <td>257</td>\n",
       "    </tr>\n",
       "    <tr>\n",
       "      <th>19</th>\n",
       "      <td>0</td>\n",
       "      <td>0</td>\n",
       "      <td>19</td>\n",
       "      <td>4.0</td>\n",
       "      <td>27.349008</td>\n",
       "      <td>246</td>\n",
       "    </tr>\n",
       "    <tr>\n",
       "      <th>20</th>\n",
       "      <td>0</td>\n",
       "      <td>0</td>\n",
       "      <td>20</td>\n",
       "      <td>5.0</td>\n",
       "      <td>26.236712</td>\n",
       "      <td>350</td>\n",
       "    </tr>\n",
       "    <tr>\n",
       "      <th>21</th>\n",
       "      <td>0</td>\n",
       "      <td>0</td>\n",
       "      <td>21</td>\n",
       "      <td>5.0</td>\n",
       "      <td>30.995268</td>\n",
       "      <td>167</td>\n",
       "    </tr>\n",
       "    <tr>\n",
       "      <th>22</th>\n",
       "      <td>0</td>\n",
       "      <td>0</td>\n",
       "      <td>22</td>\n",
       "      <td>5.0</td>\n",
       "      <td>27.940978</td>\n",
       "      <td>137</td>\n",
       "    </tr>\n",
       "    <tr>\n",
       "      <th>23</th>\n",
       "      <td>0</td>\n",
       "      <td>0</td>\n",
       "      <td>23</td>\n",
       "      <td>5.0</td>\n",
       "      <td>25.140002</td>\n",
       "      <td>253</td>\n",
       "    </tr>\n",
       "    <tr>\n",
       "      <th>24</th>\n",
       "      <td>0</td>\n",
       "      <td>0</td>\n",
       "      <td>24</td>\n",
       "      <td>3.0</td>\n",
       "      <td>24.982073</td>\n",
       "      <td>80</td>\n",
       "    </tr>\n",
       "    <tr>\n",
       "      <th>25</th>\n",
       "      <td>0</td>\n",
       "      <td>0</td>\n",
       "      <td>25</td>\n",
       "      <td>5.0</td>\n",
       "      <td>35.354678</td>\n",
       "      <td>189</td>\n",
       "    </tr>\n",
       "    <tr>\n",
       "      <th>26</th>\n",
       "      <td>0</td>\n",
       "      <td>0</td>\n",
       "      <td>26</td>\n",
       "      <td>3.0</td>\n",
       "      <td>37.409489</td>\n",
       "      <td>74</td>\n",
       "    </tr>\n",
       "    <tr>\n",
       "      <th>27</th>\n",
       "      <td>0</td>\n",
       "      <td>0</td>\n",
       "      <td>27</td>\n",
       "      <td>2.0</td>\n",
       "      <td>33.013062</td>\n",
       "      <td>183</td>\n",
       "    </tr>\n",
       "    <tr>\n",
       "      <th>28</th>\n",
       "      <td>0</td>\n",
       "      <td>0</td>\n",
       "      <td>28</td>\n",
       "      <td>0.0</td>\n",
       "      <td>23.063390</td>\n",
       "      <td>75</td>\n",
       "    </tr>\n",
       "    <tr>\n",
       "      <th>29</th>\n",
       "      <td>0</td>\n",
       "      <td>0</td>\n",
       "      <td>29</td>\n",
       "      <td>5.0</td>\n",
       "      <td>33.274666</td>\n",
       "      <td>64</td>\n",
       "    </tr>\n",
       "    <tr>\n",
       "      <th>...</th>\n",
       "      <td>...</td>\n",
       "      <td>...</td>\n",
       "      <td>...</td>\n",
       "      <td>...</td>\n",
       "      <td>...</td>\n",
       "      <td>...</td>\n",
       "    </tr>\n",
       "    <tr>\n",
       "      <th>11559</th>\n",
       "      <td>8</td>\n",
       "      <td>8</td>\n",
       "      <td>137</td>\n",
       "      <td>5.0</td>\n",
       "      <td>32.564974</td>\n",
       "      <td>2420</td>\n",
       "    </tr>\n",
       "    <tr>\n",
       "      <th>11560</th>\n",
       "      <td>8</td>\n",
       "      <td>8</td>\n",
       "      <td>138</td>\n",
       "      <td>5.0</td>\n",
       "      <td>37.789680</td>\n",
       "      <td>1728</td>\n",
       "    </tr>\n",
       "    <tr>\n",
       "      <th>11561</th>\n",
       "      <td>8</td>\n",
       "      <td>8</td>\n",
       "      <td>139</td>\n",
       "      <td>5.0</td>\n",
       "      <td>36.180888</td>\n",
       "      <td>1641</td>\n",
       "    </tr>\n",
       "    <tr>\n",
       "      <th>11562</th>\n",
       "      <td>8</td>\n",
       "      <td>8</td>\n",
       "      <td>140</td>\n",
       "      <td>5.0</td>\n",
       "      <td>37.766726</td>\n",
       "      <td>1806</td>\n",
       "    </tr>\n",
       "    <tr>\n",
       "      <th>11563</th>\n",
       "      <td>8</td>\n",
       "      <td>8</td>\n",
       "      <td>141</td>\n",
       "      <td>5.0</td>\n",
       "      <td>36.786850</td>\n",
       "      <td>1760</td>\n",
       "    </tr>\n",
       "    <tr>\n",
       "      <th>11564</th>\n",
       "      <td>8</td>\n",
       "      <td>8</td>\n",
       "      <td>142</td>\n",
       "      <td>5.0</td>\n",
       "      <td>36.766604</td>\n",
       "      <td>1840</td>\n",
       "    </tr>\n",
       "    <tr>\n",
       "      <th>11565</th>\n",
       "      <td>8</td>\n",
       "      <td>8</td>\n",
       "      <td>143</td>\n",
       "      <td>5.0</td>\n",
       "      <td>38.768109</td>\n",
       "      <td>746</td>\n",
       "    </tr>\n",
       "    <tr>\n",
       "      <th>11566</th>\n",
       "      <td>9</td>\n",
       "      <td>0</td>\n",
       "      <td>8</td>\n",
       "      <td>3.0</td>\n",
       "      <td>61.200000</td>\n",
       "      <td>1</td>\n",
       "    </tr>\n",
       "    <tr>\n",
       "      <th>11567</th>\n",
       "      <td>9</td>\n",
       "      <td>0</td>\n",
       "      <td>50</td>\n",
       "      <td>-1.0</td>\n",
       "      <td>0.000000</td>\n",
       "      <td>19</td>\n",
       "    </tr>\n",
       "    <tr>\n",
       "      <th>11568</th>\n",
       "      <td>9</td>\n",
       "      <td>0</td>\n",
       "      <td>54</td>\n",
       "      <td>3.0</td>\n",
       "      <td>32.400000</td>\n",
       "      <td>1</td>\n",
       "    </tr>\n",
       "    <tr>\n",
       "      <th>11569</th>\n",
       "      <td>9</td>\n",
       "      <td>0</td>\n",
       "      <td>61</td>\n",
       "      <td>3.0</td>\n",
       "      <td>50.400000</td>\n",
       "      <td>1</td>\n",
       "    </tr>\n",
       "    <tr>\n",
       "      <th>11570</th>\n",
       "      <td>9</td>\n",
       "      <td>0</td>\n",
       "      <td>62</td>\n",
       "      <td>3.0</td>\n",
       "      <td>51.600000</td>\n",
       "      <td>1</td>\n",
       "    </tr>\n",
       "    <tr>\n",
       "      <th>11571</th>\n",
       "      <td>9</td>\n",
       "      <td>0</td>\n",
       "      <td>72</td>\n",
       "      <td>3.0</td>\n",
       "      <td>62.400000</td>\n",
       "      <td>1</td>\n",
       "    </tr>\n",
       "    <tr>\n",
       "      <th>11572</th>\n",
       "      <td>9</td>\n",
       "      <td>0</td>\n",
       "      <td>73</td>\n",
       "      <td>3.0</td>\n",
       "      <td>52.800000</td>\n",
       "      <td>1</td>\n",
       "    </tr>\n",
       "    <tr>\n",
       "      <th>11573</th>\n",
       "      <td>9</td>\n",
       "      <td>0</td>\n",
       "      <td>74</td>\n",
       "      <td>3.0</td>\n",
       "      <td>46.800000</td>\n",
       "      <td>1</td>\n",
       "    </tr>\n",
       "    <tr>\n",
       "      <th>11574</th>\n",
       "      <td>9</td>\n",
       "      <td>0</td>\n",
       "      <td>75</td>\n",
       "      <td>3.0</td>\n",
       "      <td>55.200000</td>\n",
       "      <td>1</td>\n",
       "    </tr>\n",
       "    <tr>\n",
       "      <th>11575</th>\n",
       "      <td>9</td>\n",
       "      <td>0</td>\n",
       "      <td>80</td>\n",
       "      <td>3.0</td>\n",
       "      <td>54.000000</td>\n",
       "      <td>1</td>\n",
       "    </tr>\n",
       "    <tr>\n",
       "      <th>11576</th>\n",
       "      <td>9</td>\n",
       "      <td>0</td>\n",
       "      <td>83</td>\n",
       "      <td>3.0</td>\n",
       "      <td>55.200000</td>\n",
       "      <td>1</td>\n",
       "    </tr>\n",
       "    <tr>\n",
       "      <th>11577</th>\n",
       "      <td>9</td>\n",
       "      <td>0</td>\n",
       "      <td>84</td>\n",
       "      <td>3.0</td>\n",
       "      <td>39.600000</td>\n",
       "      <td>1</td>\n",
       "    </tr>\n",
       "    <tr>\n",
       "      <th>11578</th>\n",
       "      <td>9</td>\n",
       "      <td>0</td>\n",
       "      <td>86</td>\n",
       "      <td>2.0</td>\n",
       "      <td>62.400000</td>\n",
       "      <td>1</td>\n",
       "    </tr>\n",
       "    <tr>\n",
       "      <th>11579</th>\n",
       "      <td>9</td>\n",
       "      <td>0</td>\n",
       "      <td>93</td>\n",
       "      <td>2.0</td>\n",
       "      <td>4.200000</td>\n",
       "      <td>6</td>\n",
       "    </tr>\n",
       "    <tr>\n",
       "      <th>11580</th>\n",
       "      <td>9</td>\n",
       "      <td>0</td>\n",
       "      <td>98</td>\n",
       "      <td>3.0</td>\n",
       "      <td>55.200000</td>\n",
       "      <td>1</td>\n",
       "    </tr>\n",
       "    <tr>\n",
       "      <th>11581</th>\n",
       "      <td>9</td>\n",
       "      <td>0</td>\n",
       "      <td>100</td>\n",
       "      <td>3.0</td>\n",
       "      <td>57.600000</td>\n",
       "      <td>1</td>\n",
       "    </tr>\n",
       "    <tr>\n",
       "      <th>11582</th>\n",
       "      <td>9</td>\n",
       "      <td>0</td>\n",
       "      <td>104</td>\n",
       "      <td>3.0</td>\n",
       "      <td>36.000000</td>\n",
       "      <td>1</td>\n",
       "    </tr>\n",
       "    <tr>\n",
       "      <th>11583</th>\n",
       "      <td>9</td>\n",
       "      <td>0</td>\n",
       "      <td>106</td>\n",
       "      <td>5.0</td>\n",
       "      <td>54.600000</td>\n",
       "      <td>2</td>\n",
       "    </tr>\n",
       "    <tr>\n",
       "      <th>11584</th>\n",
       "      <td>9</td>\n",
       "      <td>0</td>\n",
       "      <td>115</td>\n",
       "      <td>3.0</td>\n",
       "      <td>20.067000</td>\n",
       "      <td>2</td>\n",
       "    </tr>\n",
       "    <tr>\n",
       "      <th>11585</th>\n",
       "      <td>9</td>\n",
       "      <td>0</td>\n",
       "      <td>116</td>\n",
       "      <td>3.0</td>\n",
       "      <td>60.000000</td>\n",
       "      <td>1</td>\n",
       "    </tr>\n",
       "    <tr>\n",
       "      <th>11586</th>\n",
       "      <td>9</td>\n",
       "      <td>0</td>\n",
       "      <td>119</td>\n",
       "      <td>5.0</td>\n",
       "      <td>24.161500</td>\n",
       "      <td>2</td>\n",
       "    </tr>\n",
       "    <tr>\n",
       "      <th>11587</th>\n",
       "      <td>9</td>\n",
       "      <td>0</td>\n",
       "      <td>120</td>\n",
       "      <td>3.0</td>\n",
       "      <td>48.000000</td>\n",
       "      <td>2</td>\n",
       "    </tr>\n",
       "    <tr>\n",
       "      <th>11588</th>\n",
       "      <td>9</td>\n",
       "      <td>0</td>\n",
       "      <td>125</td>\n",
       "      <td>3.0</td>\n",
       "      <td>73.200000</td>\n",
       "      <td>1</td>\n",
       "    </tr>\n",
       "  </tbody>\n",
       "</table>\n",
       "<p>11589 rows × 6 columns</p>\n",
       "</div>"
      ],
      "text/plain": [
       "       x  y    t  direction    avg_vel  nodes\n",
       "0      0  0    0        5.0  29.087397    441\n",
       "1      0  0    1        5.0  30.073045   1038\n",
       "2      0  0    2        5.0  30.638304   1070\n",
       "3      0  0    3        5.0  30.868496   1120\n",
       "4      0  0    4        5.0  31.104015   1210\n",
       "5      0  0    5        5.0  30.862899    927\n",
       "6      0  0    6        5.0  32.881424    878\n",
       "7      0  0    7        5.0  29.333440    409\n",
       "8      0  0    8        5.0  33.058558    347\n",
       "9      0  0    9        5.0  33.869005    369\n",
       "10     0  0   10        5.0  29.855768    354\n",
       "11     0  0   11        5.0  29.911548    353\n",
       "12     0  0   12        5.0  36.899510    479\n",
       "13     0  0   13        5.0  32.714515    263\n",
       "14     0  0   14        5.0  32.918753    505\n",
       "15     0  0   15        5.0  36.179391    112\n",
       "16     0  0   16        0.0  34.150000     81\n",
       "17     0  0   17        2.0  32.346101    251\n",
       "18     0  0   18        5.0  29.420061    257\n",
       "19     0  0   19        4.0  27.349008    246\n",
       "20     0  0   20        5.0  26.236712    350\n",
       "21     0  0   21        5.0  30.995268    167\n",
       "22     0  0   22        5.0  27.940978    137\n",
       "23     0  0   23        5.0  25.140002    253\n",
       "24     0  0   24        3.0  24.982073     80\n",
       "25     0  0   25        5.0  35.354678    189\n",
       "26     0  0   26        3.0  37.409489     74\n",
       "27     0  0   27        2.0  33.013062    183\n",
       "28     0  0   28        0.0  23.063390     75\n",
       "29     0  0   29        5.0  33.274666     64\n",
       "...   .. ..  ...        ...        ...    ...\n",
       "11559  8  8  137        5.0  32.564974   2420\n",
       "11560  8  8  138        5.0  37.789680   1728\n",
       "11561  8  8  139        5.0  36.180888   1641\n",
       "11562  8  8  140        5.0  37.766726   1806\n",
       "11563  8  8  141        5.0  36.786850   1760\n",
       "11564  8  8  142        5.0  36.766604   1840\n",
       "11565  8  8  143        5.0  38.768109    746\n",
       "11566  9  0    8        3.0  61.200000      1\n",
       "11567  9  0   50       -1.0   0.000000     19\n",
       "11568  9  0   54        3.0  32.400000      1\n",
       "11569  9  0   61        3.0  50.400000      1\n",
       "11570  9  0   62        3.0  51.600000      1\n",
       "11571  9  0   72        3.0  62.400000      1\n",
       "11572  9  0   73        3.0  52.800000      1\n",
       "11573  9  0   74        3.0  46.800000      1\n",
       "11574  9  0   75        3.0  55.200000      1\n",
       "11575  9  0   80        3.0  54.000000      1\n",
       "11576  9  0   83        3.0  55.200000      1\n",
       "11577  9  0   84        3.0  39.600000      1\n",
       "11578  9  0   86        2.0  62.400000      1\n",
       "11579  9  0   93        2.0   4.200000      6\n",
       "11580  9  0   98        3.0  55.200000      1\n",
       "11581  9  0  100        3.0  57.600000      1\n",
       "11582  9  0  104        3.0  36.000000      1\n",
       "11583  9  0  106        5.0  54.600000      2\n",
       "11584  9  0  115        3.0  20.067000      2\n",
       "11585  9  0  116        3.0  60.000000      1\n",
       "11586  9  0  119        5.0  24.161500      2\n",
       "11587  9  0  120        3.0  48.000000      2\n",
       "11588  9  0  125        3.0  73.200000      1\n",
       "\n",
       "[11589 rows x 6 columns]"
      ]
     },
     "execution_count": 12,
     "metadata": {},
     "output_type": "execute_result"
    }
   ],
   "source": [
    "didi_agg.sort_values([\"x\",\"y\",\"t\"])"
   ]
  },
  {
   "cell_type": "markdown",
   "metadata": {},
   "source": [
    "## Choose state threshold"
   ]
  },
  {
   "cell_type": "markdown",
   "metadata": {},
   "source": [
    "##### 1. Velocity"
   ]
  },
  {
   "cell_type": "code",
   "execution_count": 13,
   "metadata": {},
   "outputs": [
    {
     "data": {
      "text/plain": [
       "0.0"
      ]
     },
     "execution_count": 13,
     "metadata": {},
     "output_type": "execute_result"
    }
   ],
   "source": [
    "didi_agg.avg_vel.min()"
   ]
  },
  {
   "cell_type": "code",
   "execution_count": 14,
   "metadata": {},
   "outputs": [
    {
     "data": {
      "text/plain": [
       "92.05714285714285"
      ]
     },
     "execution_count": 14,
     "metadata": {},
     "output_type": "execute_result"
    }
   ],
   "source": [
    "didi_agg.avg_vel.max()"
   ]
  },
  {
   "cell_type": "code",
   "execution_count": 15,
   "metadata": {},
   "outputs": [
    {
     "data": {
      "text/plain": [
       "30.039004602554975"
      ]
     },
     "execution_count": 15,
     "metadata": {},
     "output_type": "execute_result"
    }
   ],
   "source": [
    "didi_agg.avg_vel.mean()"
   ]
  },
  {
   "cell_type": "code",
   "execution_count": 16,
   "metadata": {},
   "outputs": [
    {
     "data": {
      "text/plain": [
       "0.25    25.580585\n",
       "0.50    28.826721\n",
       "0.75    33.364019\n",
       "Name: avg_vel, dtype: float64"
      ]
     },
     "execution_count": 16,
     "metadata": {},
     "output_type": "execute_result"
    }
   ],
   "source": [
    "didi_agg.avg_vel.quantile([0.25,0.5,0.75])"
   ]
  },
  {
   "cell_type": "code",
   "execution_count": 186,
   "metadata": {},
   "outputs": [
    {
     "data": {
      "text/plain": [
       "<matplotlib.axes._subplots.AxesSubplot at 0x121dee898>"
      ]
     },
     "execution_count": 186,
     "metadata": {},
     "output_type": "execute_result"
    },
    {
     "data": {
      "image/png": "[encoded data removed]",
      "text/plain": [
       "<Figure size 432x288 with 1 Axes>"
      ]
     },
     "metadata": {
      "needs_background": "light"
     },
     "output_type": "display_data"
    }
   ],
   "source": [
    "didi_agg.avg_vel.plot.hist(bins = 50, color = \"pink\")"
   ]
  },
  {
   "cell_type": "markdown",
   "metadata": {},
   "source": [
    "##### 2. Capacity"
   ]
  },
  {
   "cell_type": "code",
   "execution_count": 18,
   "metadata": {},
   "outputs": [
    {
     "data": {
      "text/plain": [
       "1"
      ]
     },
     "execution_count": 18,
     "metadata": {},
     "output_type": "execute_result"
    }
   ],
   "source": [
    "didi_agg.nodes.min()"
   ]
  },
  {
   "cell_type": "code",
   "execution_count": 19,
   "metadata": {},
   "outputs": [
    {
     "data": {
      "text/plain": [
       "18960"
      ]
     },
     "execution_count": 19,
     "metadata": {},
     "output_type": "execute_result"
    }
   ],
   "source": [
    "didi_agg.nodes.max()"
   ]
  },
  {
   "cell_type": "code",
   "execution_count": 20,
   "metadata": {},
   "outputs": [
    {
     "data": {
      "text/plain": [
       "2434.6879799810163"
      ]
     },
     "execution_count": 20,
     "metadata": {},
     "output_type": "execute_result"
    }
   ],
   "source": [
    "didi_agg.nodes.mean()"
   ]
  },
  {
   "cell_type": "code",
   "execution_count": 21,
   "metadata": {},
   "outputs": [
    {
     "data": {
      "text/plain": [
       "0.25     502.0\n",
       "0.50    1757.0\n",
       "0.75    3619.0\n",
       "Name: nodes, dtype: float64"
      ]
     },
     "execution_count": 21,
     "metadata": {},
     "output_type": "execute_result"
    }
   ],
   "source": [
    "didi_agg.nodes.quantile([0.25, 0.5, 0.75])"
   ]
  },
  {
   "cell_type": "code",
   "execution_count": 183,
   "metadata": {},
   "outputs": [
    {
     "data": {
      "text/plain": [
       "<matplotlib.axes._subplots.AxesSubplot at 0x121f9bc88>"
      ]
     },
     "execution_count": 183,
     "metadata": {},
     "output_type": "execute_result"
    },
    {
     "data": {
      "image/png": "[encoded data removed]",
      "text/plain": [
       "<Figure size 432x288 with 1 Axes>"
      ]
     },
     "metadata": {
      "needs_background": "light"
     },
     "output_type": "display_data"
    }
   ],
   "source": [
    "didi_agg.nodes.plot.hist(bins = 50,color = \"pink\")"
   ]
  },
  {
   "cell_type": "code",
   "execution_count": 23,
   "metadata": {},
   "outputs": [],
   "source": [
    "# Assume we have 3 states, Busy, Normal, Free"
   ]
  },
  {
   "cell_type": "code",
   "execution_count": 24,
   "metadata": {},
   "outputs": [],
   "source": [
    "# For velocity, the threshold are: 25, 33\n",
    "# For nodes, the threshold are: 500, 3600"
   ]
  },
  {
   "cell_type": "markdown",
   "metadata": {},
   "source": [
    "## Assign State"
   ]
  },
  {
   "cell_type": "code",
   "execution_count": 52,
   "metadata": {},
   "outputs": [],
   "source": [
    "nodes_low = 500\n",
    "nodes_high = 3600\n",
    "vel_low = 25\n",
    "vel_high = 33\n",
    "\n",
    "def cal_state(row):\n",
    "    if row[\"nodes\"] <= nodes_low or row[\"avg_vel\"] >= vel_high:\n",
    "        return \"Free\"\n",
    "    elif nodes_low<row[\"nodes\"] <=nodes_high or vel_low<=row[\"avg_vel\"] <vel_high:\n",
    "        return \"Normal\"\n",
    "    else:\n",
    "        return \"Busy\"\n",
    "didi_agg[\"State\"] = didi_agg.apply(lambda row: cal_state(row), axis = 1)"
   ]
  },
  {
   "cell_type": "code",
   "execution_count": 26,
   "metadata": {},
   "outputs": [
    {
     "data": {
      "text/plain": [
       "Normal    6151\n",
       "Free      4293\n",
       "Busy      1145\n",
       "Name: State, dtype: int64"
      ]
     },
     "execution_count": 26,
     "metadata": {},
     "output_type": "execute_result"
    }
   ],
   "source": [
    "didi_agg.State.value_counts()"
   ]
  },
  {
   "cell_type": "markdown",
   "metadata": {},
   "source": [
    "## Model (Customized HMM)"
   ]
  },
  {
   "cell_type": "code",
   "execution_count": 27,
   "metadata": {},
   "outputs": [],
   "source": [
    "def get_State(training_data):\n",
    "    return list(training_data.State.unique())"
   ]
  },
  {
   "cell_type": "code",
   "execution_count": 28,
   "metadata": {},
   "outputs": [],
   "source": [
    "def get_observationX(training_data):\n",
    "    return list(training_data.x.unique())"
   ]
  },
  {
   "cell_type": "code",
   "execution_count": 29,
   "metadata": {},
   "outputs": [],
   "source": [
    "def get_observationY(training_data):\n",
    "    return list(training_data.y.unique())"
   ]
  },
  {
   "cell_type": "code",
   "execution_count": 30,
   "metadata": {},
   "outputs": [],
   "source": [
    "def get_observationT(training_data):\n",
    "    return list(training_data.t.unique())"
   ]
  },
  {
   "cell_type": "code",
   "execution_count": 31,
   "metadata": {},
   "outputs": [],
   "source": [
    "State_list = get_State(didi_agg)"
   ]
  },
  {
   "cell_type": "code",
   "execution_count": 141,
   "metadata": {},
   "outputs": [],
   "source": [
    "def learn_parameters(training_data):  ## train parameters\n",
    "    tag_set = get_State(training_data)\n",
    "    observationX = get_observationX(training_data)\n",
    "    observationY = get_observationY(training_data)\n",
    "    observationT = get_observationT(training_data)\n",
    "    \n",
    "    tag_set_len = len(tag_set)\n",
    "    \n",
    "    emission_matrix = dict(left = np.zeros((tag_set_len, tag_set_len)).tolist(),\n",
    "                           right = np.zeros((tag_set_len, tag_set_len)).tolist(),\n",
    "                           up = np.zeros((tag_set_len, tag_set_len)).tolist(),\n",
    "                           bottom = np.zeros((tag_set_len, tag_set_len)).tolist(),\n",
    "                           middle = np.zeros((tag_set_len, tag_set_len)).tolist())\n",
    "    \n",
    "    count_t1 = np.zeros(tag_set_len).tolist()\n",
    "    count_t0_t1_left = np.zeros((tag_set_len,tag_set_len)).tolist()\n",
    "    count_t0_t1_right = np.zeros((tag_set_len,tag_set_len)).tolist()\n",
    "    count_t0_t1_up = np.zeros((tag_set_len,tag_set_len)).tolist()\n",
    "    count_t0_t1_bottom = np.zeros((tag_set_len,tag_set_len)).tolist()\n",
    "    count_t0_t1_middle = np.zeros((tag_set_len,tag_set_len)).tolist()\n",
    "    \n",
    "\n",
    "    \n",
    "    for t in observationT:\n",
    "        for x in observationX:\n",
    "            for y in observationY:\n",
    "             \n",
    "                if t == 0:\n",
    "                    pass\n",
    "                else:\n",
    "                    if training_data[(training_data.x == x) \n",
    "                                                         &(training_data.y == y) \n",
    "                                                         &(training_data.t == t)].empty:\n",
    "                        pass\n",
    "                    else:\n",
    "                        count_t1[tag_set.index(training_data[(training_data.x == x) \n",
    "                                                             &(training_data.y == y) \n",
    "                                                             &(training_data.t == t)].iloc[0,-1])]+=1\n",
    "                        if training_data[(training_data.x == x) \n",
    "                                                             &(training_data.y == y) \n",
    "                                                             & (training_data.t == t-1)].empty:\n",
    "                            pass\n",
    "                        else:\n",
    "                            count_t0_t1_middle[tag_set.index(training_data[(training_data.x == x) \n",
    "                                                                 &(training_data.y == y) \n",
    "                                                                 & (training_data.t == t-1)].iloc[0,-1])][\n",
    "                                               tag_set.index(training_data[(training_data.x == x) \n",
    "                                                                 &(training_data.y == y) \n",
    "                                                                 & (training_data.t == t)].iloc[0,-1])]+=1\n",
    "                        if (x-1) in observationX:\n",
    "                            if training_data[(training_data.x == x) \n",
    "                                                                 &(training_data.y == y) \n",
    "                                                                 & (training_data.t == t-1)].empty:\n",
    "                                pass\n",
    "                            else:\n",
    "                                count_t0_t1_left[tag_set.index(training_data[(training_data.x == x) \n",
    "                                                                     &(training_data.y == y) \n",
    "                                                                     & (training_data.t == t-1)].iloc[0,-1])][\n",
    "                                                   tag_set.index(training_data[(training_data.x == x) \n",
    "                                                                     &(training_data.y == y) \n",
    "                                                                     & (training_data.t == t)].iloc[0,-1])]+=1\n",
    "                        else:\n",
    "                            pass\n",
    "                        \n",
    "                        if (x+1) in observationX:\n",
    "                            if training_data[(training_data.x == x) \n",
    "                                                                 &(training_data.y == y) \n",
    "                                                                 & (training_data.t == t-1)].empty:\n",
    "                                pass\n",
    "                            else:\n",
    "\n",
    "                                count_t0_t1_right[tag_set.index(training_data[(training_data.x == x) \n",
    "                                                                     &(training_data.y == y) \n",
    "                                                                     & (training_data.t == t-1)].iloc[0,-1])][\n",
    "                                                   tag_set.index(training_data[(training_data.x == x) \n",
    "                                                                     &(training_data.y == y) \n",
    "                                                                     & (training_data.t == t)].iloc[0,-1])]+=1\n",
    "                        else:\n",
    "                            pass\n",
    "                        \n",
    "                        if (y+1) in observationY:\n",
    "                            if training_data[(training_data.x == x) \n",
    "                                                                 &(training_data.y == y) \n",
    "                                                                 & (training_data.t == t-1)].empty:\n",
    "                                pass\n",
    "                            else:\n",
    "\n",
    "                                count_t0_t1_up[tag_set.index(training_data[(training_data.x == x) \n",
    "                                                                     &(training_data.y == y) \n",
    "                                                                     & (training_data.t == t-1)].iloc[0,-1])][\n",
    "                                                   tag_set.index(training_data[(training_data.x == x) \n",
    "                                                                     &(training_data.y == y) \n",
    "                                                                     & (training_data.t == t)].iloc[0,-1])]+=1\n",
    "                        else:\n",
    "                            pass\n",
    "                        \n",
    "                        if (y-1) in observationY:\n",
    "                            if training_data[(training_data.x == x) \n",
    "                                                                 &(training_data.y == y) \n",
    "                                                                 & (training_data.t == t-1)].empty:\n",
    "                                pass\n",
    "                            else:\n",
    "                                count_t0_t1_bottom[tag_set.index(training_data[(training_data.x == x) \n",
    "                                                                     &(training_data.y == y) \n",
    "                                                                     & (training_data.t == t-1)].iloc[0,-1])][\n",
    "                                                   tag_set.index(training_data[(training_data.x == x) \n",
    "                                                                     &(training_data.y == y) \n",
    "                                                                     & (training_data.t == t)].iloc[0,-1])]+=1\n",
    "                        else:\n",
    "                            pass\n",
    "                    \n",
    "                    \n",
    "    for i in range(tag_set_len):\n",
    "        for j in range(tag_set_len):\n",
    "            emission_matrix[\"left\"][i][j] = 1.0*(count_t0_t1_left[i][j]+1)/(count_t1[j]+1)\n",
    "            emission_matrix[\"right\"][i][j] = 1.0*(count_t0_t1_right[i][j]+1)/(count_t1[j]+1)\n",
    "            emission_matrix[\"up\"][i][j] = 1.0*(count_t0_t1_up[i][j]+1)/(count_t1[j]+1)\n",
    "            emission_matrix[\"bottom\"][i][j] = 1.0*(count_t0_t1_bottom[i][j]+1)/(count_t1[j]+1)\n",
    "            emission_matrix[\"middle\"][i][j] = 1.0*(count_t0_t1_middle[i][j]+1)/(count_t1[j]+1)\n",
    "    \n",
    "    state_prob_new = [x/len(training_data) for x in state_prob]\n",
    "    return emission_matrix"
   ]
  },
  {
   "cell_type": "code",
   "execution_count": 146,
   "metadata": {},
   "outputs": [],
   "source": [
    "def model_decode(training_data, testing_data, emission_matrix, state_prob_new):   ## decode\n",
    "    tag_set = get_State(training_data)\n",
    "    observationX = get_observationX(training_data)\n",
    "    observationY = get_observationY(training_data)\n",
    "    \n",
    "    testingX = get_observationX(testing_data)\n",
    "    testingY = get_observationY(testing_data)\n",
    "    \n",
    "    pred_state = []\n",
    "    \n",
    "    prob_left = np.ones(len(tag_set))\n",
    "    prob_right = np.ones(len(tag_set))\n",
    "    prob_middle = np.ones(len(tag_set))\n",
    "    prob_up = np.ones(len(tag_set))\n",
    "    prob_bottom = np.ones(len(tag_set))\n",
    "    \n",
    "    for x in testingX:\n",
    "        for y in testingY:\n",
    "            if (x in observationX) & (y in observationY):\n",
    "                if (x-1) in testingX:\n",
    "                    try:\n",
    "                        prob_left = emission_matrix[\"left\"][tag_set.index(testing_data[(testing_data.x == x-1) \n",
    "                                                                 &(testing_data.y == y) ].iloc[0,-1])]\n",
    "                    except:\n",
    "                        pass\n",
    "                if (x+1) in testingX :\n",
    "                    try:\n",
    "                        prob_right = emission_matrix[\"right\"][tag_set.index(testing_data[(testing_data.x == x+1) \n",
    "                                                                 &(testing_data.y == y) ].iloc[0,-1])]\n",
    "                    except:\n",
    "                        pass\n",
    "                if (y-1) in testingY:\n",
    "                    try:\n",
    "                        prob_bottom = emission_matrix[\"bottom\"][tag_set.index(testing_data[(testing_data.x == x) \n",
    "                                                                 &(testing_data.y == y-1) ].iloc[0,-1])]\n",
    "                    except:\n",
    "                        pass\n",
    "                if (y+1) in testingY:\n",
    "                    try:\n",
    "                        prob_up = emission_matrix[\"up\"][tag_set.index(testing_data[(testing_data.x == x) \n",
    "                                                                 &(testing_data.y == y+1) ].iloc[0,-1])]\n",
    "                    except:\n",
    "                        pass\n",
    "                try:\n",
    "                    prob_middle = emission_matrix[\"middle\"][tag_set.index(testing_data[(testing_data.x == x) \n",
    "                                                                 &(testing_data.y == y) ].iloc[0,-1])]\n",
    "                except:\n",
    "                    pass\n",
    "                \n",
    "                temp_prob = list(map(lambda x1,x2,x3,x4,x5,x6:x1*x2*x3*x4*x5*x6, prob_left, \n",
    "                                     prob_right, prob_middle, prob_up, prob_bottom, state_prob_new))\n",
    "\n",
    "                pred_state.append(tag_set[np.argmax(temp_prob)])\n",
    "    \n",
    "    testing_data[\"pred_State\"] = pred_state\n",
    "    return testing_data"
   ]
  },
  {
   "cell_type": "code",
   "execution_count": 143,
   "metadata": {},
   "outputs": [],
   "source": [
    "temp = list(didi_agg.State.value_counts()/len(didi_agg))\n",
    "state_prob = [temp[1],temp[0],temp[2]]"
   ]
  },
  {
   "cell_type": "code",
   "execution_count": 178,
   "metadata": {
    "scrolled": true
   },
   "outputs": [],
   "source": [
    "learned_parameters = learn_parameters(didi_agg)"
   ]
  },
  {
   "cell_type": "code",
   "execution_count": 148,
   "metadata": {},
   "outputs": [
    {
     "name": "stderr",
     "output_type": "stream",
     "text": [
      "/Users/Zhenfeng/anaconda3/lib/python3.7/site-packages/ipykernel_launcher.py:55: SettingWithCopyWarning: \n",
      "A value is trying to be set on a copy of a slice from a DataFrame.\n",
      "Try using .loc[row_indexer,col_indexer] = value instead\n",
      "\n",
      "See the caveats in the documentation: http://pandas.pydata.org/pandas-docs/stable/indexing.html#indexing-view-versus-copy\n"
     ]
    }
   ],
   "source": [
    "### Predict t = 1\n",
    "t_test = 1\n",
    "test_tk = didi_agg[didi_agg.t == t_test]\n",
    "pred_data = model_decode(didi_agg, test_tk, learned_parameters,state_prob)"
   ]
  },
  {
   "cell_type": "markdown",
   "metadata": {},
   "source": [
    "### Calculating Accuracy"
   ]
  },
  {
   "cell_type": "code",
   "execution_count": 158,
   "metadata": {},
   "outputs": [],
   "source": [
    "def cal_accuray(test_data, pred_data):\n",
    "    t = pred_data.iloc[0,2]\n",
    "    x_pred = get_observationX(pred_data)\n",
    "    y_pred = get_observationY(pred_data)\n",
    "    \n",
    "    test_data = test_data[test_data.t == t+1]\n",
    "    \n",
    "    count_all = 0\n",
    "    count_correct = 0\n",
    "    \n",
    "    for x in x_pred:\n",
    "        for y in y_pred:\n",
    "            try:\n",
    "                pred_tag = pred_data[(pred_data.x == x)&(pred_data.y == y) ].iloc[0,-1]\n",
    "                test_tag = test_data[(test_data.x == x)&(test_data.y == y) ].iloc[0,-1]\n",
    "                if pred_tag == test_tag:\n",
    "                    count_correct +=1\n",
    "                count_all +=1\n",
    "            except:\n",
    "                pass\n",
    "    accuracy = 1.0*count_correct/count_all\n",
    "    \n",
    "    return accuracy\n",
    "            "
   ]
  },
  {
   "cell_type": "code",
   "execution_count": 171,
   "metadata": {},
   "outputs": [],
   "source": [
    "ts = didi_agg.t.unique()"
   ]
  },
  {
   "cell_type": "code",
   "execution_count": 174,
   "metadata": {
    "scrolled": true
   },
   "outputs": [
    {
     "name": "stderr",
     "output_type": "stream",
     "text": [
      "/Users/Zhenfeng/anaconda3/lib/python3.7/site-packages/ipykernel_launcher.py:55: SettingWithCopyWarning: \n",
      "A value is trying to be set on a copy of a slice from a DataFrame.\n",
      "Try using .loc[row_indexer,col_indexer] = value instead\n",
      "\n",
      "See the caveats in the documentation: http://pandas.pydata.org/pandas-docs/stable/indexing.html#indexing-view-versus-copy\n"
     ]
    }
   ],
   "source": [
    "accuracys = []\n",
    "for t in ts:\n",
    "    try:\n",
    "        test_tk = didi_agg[didi_agg.t == t+1]\n",
    "        pred_data = model_decode(didi_agg, test_tk, learned_parameters, state_prob)\n",
    "        accuracys.append(cal_accuray(didi_agg, pred_data))\n",
    "\n",
    "    except:\n",
    "        pass"
   ]
  },
  {
   "cell_type": "code",
   "execution_count": 176,
   "metadata": {},
   "outputs": [
    {
     "data": {
      "text/plain": [
       "0.7940627172349131"
      ]
     },
     "execution_count": 176,
     "metadata": {},
     "output_type": "execute_result"
    }
   ],
   "source": [
    "np.mean(accuracys)"
   ]
  },
  {
   "cell_type": "markdown",
   "metadata": {},
   "source": [
    "### Output"
   ]
  },
  {
   "cell_type": "code",
   "execution_count": 97,
   "metadata": {},
   "outputs": [
    {
     "name": "stderr",
     "output_type": "stream",
     "text": [
      "/Users/Zhenfeng/anaconda3/lib/python3.7/site-packages/ipykernel_launcher.py:55: SettingWithCopyWarning: \n",
      "A value is trying to be set on a copy of a slice from a DataFrame.\n",
      "Try using .loc[row_indexer,col_indexer] = value instead\n",
      "\n",
      "See the caveats in the documentation: http://pandas.pydata.org/pandas-docs/stable/indexing.html#indexing-view-versus-copy\n"
     ]
    }
   ],
   "source": [
    "# t =1 (non-peak period)\n",
    "# t = 66 (peak period)\n",
    "\n",
    "ts = [1, 66]\n",
    "\n",
    "for t in ts:\n",
    "    test_tk = didi_agg[didi_agg.t == t]\n",
    "    pred_data = model_decode(didi_agg, test_tk, learned_parameters)[[\"x\", \"y\", \"t\", \"avg_vel\", \"nodes\", \"State\", \"pred_State\"]]\n",
    "    pred_data[\"State_tag\"] = pred_data.State.map({\"Busy\": 3, \"Normal\": 2, \"Free\": 0})\n",
    "    pred_data[\"pred_State_tag\"] = pred_data.pred_State.map({\"Busy\": 3, \"Normal\": 2, \"Free\": 0})\n",
    "    \n",
    "    name = \"t\"+str(t) \n",
    "    pred_data.to_csv(\"pred_for_\"+name+\".csv\", index = False)\n",
    "    "
   ]
  }
 ],
 "metadata": {
  "kernelspec": {
   "display_name": "Python 3",
   "language": "python",
   "name": "python3"
  },
  "language_info": {
   "codemirror_mode": {
    "name": "ipython",
    "version": 3
   },
   "file_extension": ".py",
   "mimetype": "text/x-python",
   "name": "python",
   "nbconvert_exporter": "python",
   "pygments_lexer": "ipython3",
   "version": "3.7.2"
  }
 },
 "nbformat": 4,
 "nbformat_minor": 2
}
